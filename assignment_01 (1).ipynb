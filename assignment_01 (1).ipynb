{
 "cells": [
  {
   "cell_type": "markdown",
   "metadata": {
    "colab_type": "text",
    "id": "view-in-github"
   },
   "source": [
    "<a href=\"https://colab.research.google.com/github/Manaswinikidambi/kidambi_manaswini/blob/main/assignment_01.ipynb\" target=\"_parent\"><img src=\"https://colab.research.google.com/assets/colab-badge.svg\" alt=\"Open In Colab\"/></a>"
   ]
  },
  {
   "cell_type": "code",
   "execution_count": null,
   "id": "3gIkDhsRemEq",
   "metadata": {
    "id": "3gIkDhsRemEq"
   },
   "outputs": [],
   "source": []
  },
  {
   "cell_type": "markdown",
   "id": "99fbfc45-ba9e-4766-8219-f5dbcacc8481",
   "metadata": {
    "id": "99fbfc45-ba9e-4766-8219-f5dbcacc8481"
   },
   "source": [
    "<a target=\"_blank\" href=\"https://colab.research.google.com/github/kgsb24/rishi-college/blob/main/assignments/Assignment_01.ipynb\">\n",
    "  <img src=\"https://colab.research.google.com/assets/colab-badge.svg\" alt=\"Open In Colab\"/>\n",
    "</a>"
   ]
  },
  {
   "cell_type": "markdown",
   "id": "07a1f870-f905-4703-8b65-12e83172133a",
   "metadata": {
    "id": "07a1f870-f905-4703-8b65-12e83172133a"
   },
   "source": [
    "## Basic Python Fundamentals"
   ]
  },
  {
   "cell_type": "code",
   "execution_count": null,
   "id": "502e1d87-2fdd-4588-a330-2af21268215e",
   "metadata": {
    "colab": {
     "base_uri": "https://localhost:8080/"
    },
    "id": "502e1d87-2fdd-4588-a330-2af21268215e",
    "outputId": "976ae318-af2f-4497-f650-eaee71d6b59d"
   },
   "outputs": [
    {
     "data": {
      "text/plain": [
       "int"
      ]
     },
     "execution_count": 6,
     "metadata": {},
     "output_type": "execute_result"
    }
   ],
   "source": [
    "# Write a Python program to declare a variable x with the value 10 and print its type.\n",
    "x=10\n",
    "type(x)"
   ]
  },
  {
   "cell_type": "code",
   "execution_count": null,
   "id": "dae77579-4b7d-4f06-96e0-7bdfe43860d7",
   "metadata": {
    "colab": {
     "base_uri": "https://localhost:8080/"
    },
    "id": "dae77579-4b7d-4f06-96e0-7bdfe43860d7",
    "outputId": "5f28c918-0873-4e7e-b8bc-845be34a4f60"
   },
   "outputs": [
    {
     "data": {
      "text/plain": [
       "30"
      ]
     },
     "execution_count": 4,
     "metadata": {},
     "output_type": "execute_result"
    }
   ],
   "source": [
    "# Write a Python program to declare three variables a = 5, b = 10, and c = 15, and print their sum.\n",
    "a=5\n",
    "b=10\n",
    "c=15\n",
    "a+b+c"
   ]
  },
  {
   "cell_type": "code",
   "execution_count": null,
   "id": "c32867b2-a615-426a-89ae-bd2793b6a4dc",
   "metadata": {
    "colab": {
     "base_uri": "https://localhost:8080/"
    },
    "id": "c32867b2-a615-426a-89ae-bd2793b6a4dc",
    "outputId": "04f05660-f8a5-4005-a6e2-373aa95d89de"
   },
   "outputs": [
    {
     "name": "stdout",
     "output_type": "stream",
     "text": [
      "<class 'int'>\n",
      "<class 'str'>\n",
      "<class 'float'>\n"
     ]
    }
   ],
   "source": [
    "# Write a Python program that checks and prints the type of a variable (e.g., int, float, str, etc.).\n",
    "a=10\n",
    "b=\"Manu\"\n",
    "c=1.0\n",
    "print(type(a))\n",
    "print(type(b))\n",
    "print(type(c))"
   ]
  },
  {
   "cell_type": "code",
   "execution_count": null,
   "id": "8b233e41-9d44-4869-9ead-afb3ff1c0b67",
   "metadata": {
    "colab": {
     "base_uri": "https://localhost:8080/"
    },
    "id": "8b233e41-9d44-4869-9ead-afb3ff1c0b67",
    "outputId": "bbc7ad54-dced-4ae4-ec23-1f0fb0aa5855"
   },
   "outputs": [
    {
     "name": "stdout",
     "output_type": "stream",
     "text": [
      "Type a number:20\n",
      "Type a number:10\n",
      "30\n",
      "10\n",
      "200\n",
      "2.0\n"
     ]
    }
   ],
   "source": [
    "# Write a Python program to perform addition, subtraction, multiplication, and division on two numbers. (User input is required for the numbers)\n",
    "x=int(input(\"Type a number:\"))\n",
    "y=int(input(\"Type a number:\"))\n",
    "addition=x+y\n",
    "print(addition)\n",
    "subtraction=x-y\n",
    "print(subtraction)\n",
    "multiplication=x*y\n",
    "print(multiplication)\n",
    "division=x/y\n",
    "print(division)\n"
   ]
  },
  {
   "cell_type": "code",
   "execution_count": null,
   "id": "2DQTlUthgYu4",
   "metadata": {
    "id": "2DQTlUthgYu4"
   },
   "outputs": [],
   "source": []
  },
  {
   "cell_type": "code",
   "execution_count": null,
   "id": "629435bd-6bfa-44de-91d9-3b2937713257",
   "metadata": {
    "colab": {
     "base_uri": "https://localhost:8080/"
    },
    "id": "629435bd-6bfa-44de-91d9-3b2937713257",
    "outputId": "45387b30-0fe5-47e1-f5bf-2c510f67b65d"
   },
   "outputs": [
    {
     "name": "stdout",
     "output_type": "stream",
     "text": [
      "123\n",
      "123.0\n"
     ]
    }
   ],
   "source": [
    "# Write a Python program to convert a string \"123\" to an integer and a float and print the results.\n",
    "a=\"123\"\n",
    "b=int(a)\n",
    "c=float(a)\n",
    "print(b)\n",
    "print(c)\n"
   ]
  },
  {
   "cell_type": "code",
   "execution_count": null,
   "id": "599421f1-51c1-4653-9d78-b007fcc6861b",
   "metadata": {
    "colab": {
     "base_uri": "https://localhost:8080/"
    },
    "id": "599421f1-51c1-4653-9d78-b007fcc6861b",
    "outputId": "624fb076-07b5-485b-f28b-b84f63216bb4"
   },
   "outputs": [
    {
     "name": "stdout",
     "output_type": "stream",
     "text": [
      "enter a stringmanu\n",
      "m\n"
     ]
    }
   ],
   "source": [
    "# Write a Python program to print the first character of a given string. (User input for the string)\n",
    "a=input(\"enter a string\")\n",
    "print(a[0])"
   ]
  },
  {
   "cell_type": "code",
   "execution_count": null,
   "id": "54ee0a5d-415f-40b6-b82e-c0de12a002f9",
   "metadata": {
    "colab": {
     "base_uri": "https://localhost:8080/"
    },
    "id": "54ee0a5d-415f-40b6-b82e-c0de12a002f9",
    "outputId": "89829ff9-f00a-49f4-8ce0-2d6541604dd4"
   },
   "outputs": [
    {
     "name": "stdout",
     "output_type": "stream",
     "text": [
      "enter a stringmanaswini\n",
      "9\n"
     ]
    }
   ],
   "source": [
    "# Write a Python program to print the length of a string. (User input for the string)\n",
    "a=input(\"enter a string\")\n",
    "print(len(a))"
   ]
  },
  {
   "cell_type": "code",
   "execution_count": 3,
   "id": "65f44c33-618e-4337-a9d1-9de888c93a0a",
   "metadata": {
    "colab": {
     "base_uri": "https://localhost:8080/"
    },
    "id": "65f44c33-618e-4337-a9d1-9de888c93a0a",
    "outputId": "5dc43c89-0da3-44ac-ad17-263bfd074a56"
   },
   "outputs": [
    {
     "name": "stdout",
     "output_type": "stream",
     "text": [
      "enter a stringmanu\n",
      "True\n"
     ]
    }
   ],
   "source": [
    "# Write a Python program to check if a given string contains only alphabets.\n",
    "a=input(\"enter a string\")\n",
    "print(a.isalpha())"
   ]
  },
  {
   "cell_type": "code",
   "execution_count": 5,
   "id": "37463128-2b51-4860-b6bf-40d3c03fbe84",
   "metadata": {
    "colab": {
     "base_uri": "https://localhost:8080/"
    },
    "id": "37463128-2b51-4860-b6bf-40d3c03fbe84",
    "outputId": "5eeca444-8491-4c48-f2bd-4a9ba6ba2127"
   },
   "outputs": [
    {
     "name": "stdout",
     "output_type": "stream",
     "text": [
      "enter a stringmanaswini\n",
      "enter a stringkidambi\n",
      "manaswinikidambi\n"
     ]
    }
   ],
   "source": [
    "# Write a Python program to concatenate two strings. (User input for the strings)\n",
    "a=input(\"enter a string\")\n",
    "b=input(\"enter a string\")\n",
    "print(a+b)\n"
   ]
  },
  {
   "cell_type": "code",
   "execution_count": 1,
   "id": "b1c5d364-eccf-473a-b03a-ab15f3e917cf",
   "metadata": {
    "id": "b1c5d364-eccf-473a-b03a-ab15f3e917cf"
   },
   "outputs": [
    {
     "name": "stdout",
     "output_type": "stream",
     "text": [
      "Index of the substring: 0\n"
     ]
    }
   ],
   "source": [
    "# Write a Python program to find the index of a substring \"abc\" in a string. (User input for the string).\n",
    "string=\"12345\"\n",
    "substring=\"123\"\n",
    "index=string.find(substring)\n",
    "print(\"Index of the substring:\",index)"
   ]
  },
  {
   "cell_type": "code",
   "execution_count": 1,
   "id": "cc92afd9-ba4b-4934-a79d-f26825b4efc2",
   "metadata": {
    "id": "cc92afd9-ba4b-4934-a79d-f26825b4efc2"
   },
   "outputs": [
    {
     "name": "stdout",
     "output_type": "stream",
     "text": [
      "Uppercase: MANASWINI\n",
      "Lowercase: manaswini\n"
     ]
    }
   ],
   "source": [
    "# Write a Python program to convert a string to both uppercase and lowercase. (User input for the string)\n",
    "string=\"manaswini\"\n",
    "print(\"Uppercase:\",string.upper())\n",
    "print(\"Lowercase:\",string.lower())\n"
   ]
  },
  {
   "cell_type": "code",
   "execution_count": 2,
   "id": "f24f79b3-da8b-44bf-8310-c68442e86e3e",
   "metadata": {
    "id": "f24f79b3-da8b-44bf-8310-c68442e86e3e"
   },
   "outputs": [
    {
     "name": "stdout",
     "output_type": "stream",
     "text": [
      "count of the character: 2\n"
     ]
    }
   ],
   "source": [
    "# Write a Python program to count how many times a particular character appears in a string. (User input for string and character)\n",
    "string=\"vaishnavi\"\n",
    "character=\"a\"\n",
    "count=string.count(character)\n",
    "print(\"count of the character:\",count)"
   ]
  },
  {
   "cell_type": "code",
   "execution_count": 33,
   "id": "f2e8f25c-5c34-44eb-b749-7cc4c100b9a8",
   "metadata": {
    "id": "f2e8f25c-5c34-44eb-b749-7cc4c100b9a8"
   },
   "outputs": [
    {
     "name": "stdout",
     "output_type": "stream",
     "text": [
      "Hello,PRAGNA! Good Morning\n"
     ]
    }
   ],
   "source": [
    "# Write a Python program to take the user's name as input and print a personalized greeting. (Hello, username, Good Morning)\n",
    "name=\"PRAGNA\"\n",
    "print(f\"Hello,{name}! Good Morning\")"
   ]
  },
  {
   "cell_type": "code",
   "execution_count": 34,
   "id": "189296cf-77e6-4f48-b010-77458da5bc9d",
   "metadata": {
    "id": "189296cf-77e6-4f48-b010-77458da5bc9d"
   },
   "outputs": [
    {
     "name": "stdout",
     "output_type": "stream",
     "text": [
      "37\n"
     ]
    }
   ],
   "source": [
    "# Write a Python program to take two numbers as input and print their sum.\n",
    "a=27\n",
    "b=10\n",
    "print(a+b)\n"
   ]
  },
  {
   "cell_type": "code",
   "execution_count": 2,
   "id": "0563b26c-0218-47b8-9035-98beb73b0931",
   "metadata": {
    "id": "0563b26c-0218-47b8-9035-98beb73b0931"
   },
   "outputs": [
    {
     "name": "stdout",
     "output_type": "stream",
     "text": [
      "Formatted_string: Hello Bhargavi! You are (age) Years old\n"
     ]
    }
   ],
   "source": [
    "# Write a Python program to format and display a string containing the user's name and age. (User input required)\n",
    "name=\"Bhargavi\"\n",
    "age=\"20\"\n",
    "formatted_string=f\"Hello {name}! You are (age) Years old\"\n",
    "print(\"Formatted_string:\",formatted_string)"
   ]
  },
  {
   "cell_type": "markdown",
   "id": "0bde6e5a-0415-4b06-8b5a-95fa252b34eb",
   "metadata": {
    "id": "0bde6e5a-0415-4b06-8b5a-95fa252b34eb"
   },
   "source": [
    "## Control Structures (Conditionals and Loops)"
   ]
  },
  {
   "cell_type": "code",
   "execution_count": 3,
   "id": "aefff5f3-b61e-43e6-a458-7367ef1af9de",
   "metadata": {
    "id": "aefff5f3-b61e-43e6-a458-7367ef1af9de"
   },
   "outputs": [
    {
     "name": "stdout",
     "output_type": "stream",
     "text": [
      "The number is positive.\n"
     ]
    }
   ],
   "source": [
    "# Write a Python program that takes a number as input and checks whether it is positive, negative, or zero.# \n",
    "# Taking input from the user\n",
    "number = float(input(\"Enter a number: \"))\n",
    "\n",
    "# Checking whether the number is positive, negative, or zero\n",
    "if number > 0:\n",
    "    print(\"The number is positive.\")\n",
    "elif number < 0:\n",
    "    print(\"The number is negative.\")\n",
    "else:\n",
    "    print(\"The number is zero.\")\n",
    "\n"
   ]
  },
  {
   "cell_type": "code",
   "execution_count": 1,
   "id": "4dc6d14b-6d22-4348-859a-2a03f9be65f7",
   "metadata": {
    "id": "4dc6d14b-6d22-4348-859a-2a03f9be65f7"
   },
   "outputs": [
    {
     "name": "stdout",
     "output_type": "stream",
     "text": [
      "14\n"
     ]
    }
   ],
   "source": [
    "# Write a Python program to find the maximum of three numbers. (User input for the numbers)\n",
    "def maximum(a,b,c):\n",
    "    list=[a,b,c]\n",
    "    list.sort()\n",
    "    return list[-1]\n",
    "a=10\n",
    "b=14\n",
    "c=5\n",
    "print(maximum(a,b,c))\n",
    "\n"
   ]
  },
  {
   "cell_type": "code",
   "execution_count": 2,
   "id": "3f6d1f45-eb68-4142-89d6-510046f21879",
   "metadata": {
    "id": "3f6d1f45-eb68-4142-89d6-510046f21879"
   },
   "outputs": [
    {
     "name": "stdout",
     "output_type": "stream",
     "text": [
      "2024 is a leap year.\n"
     ]
    }
   ],
   "source": [
    "# Write a Python program to check if a year is a leap year. (User input for the year)\n",
    "import calendar\n",
    "year=2024\n",
    "if  calendar.isleap(year):\n",
    "    print(f\"{year} is a leap year.\")\n",
    "else:\n",
    "    print(f\"{year} is not a leap year.\")"
   ]
  },
  {
   "cell_type": "code",
   "execution_count": 3,
   "id": "b6a07105-6fa5-4f70-b64b-ebd66afc3c2b",
   "metadata": {
    "id": "b6a07105-6fa5-4f70-b64b-ebd66afc3c2b"
   },
   "outputs": [
    {
     "name": "stdout",
     "output_type": "stream",
     "text": [
      "0 15 30 45 "
     ]
    }
   ],
   "source": [
    "# Write a Python program to check if a number is divisible by both 3 and 5. (User input for the number)\n",
    "n=50\n",
    "for i in range(0,n):\n",
    "    if i%15==0:\n",
    "        print(i,end=\" \")\n"
   ]
  },
  {
   "cell_type": "code",
   "execution_count": 4,
   "id": "d10c9005-b85d-42f9-81d0-65d149415888",
   "metadata": {
    "id": "d10c9005-b85d-42f9-81d0-65d149415888"
   },
   "outputs": [
    {
     "name": "stdout",
     "output_type": "stream",
     "text": [
      "PALINDROME !\n"
     ]
    }
   ],
   "source": [
    "\n",
    "# Write a Python program to check if a string is a palindrome. (User input for the string)\n",
    "str=\"Bhargavi\"\n",
    "strstr =str.casefold()\n",
    "#This string is reverse\n",
    "rev=reversed(str)\n",
    "if list(str)==list(rev):\n",
    "    print(\"PALINDROME !\")\n",
    "else:\n",
    "    print(\"PALINDROME !\")\n",
    "    \n",
    "    "
   ]
  },
  {
   "cell_type": "code",
   "execution_count": 5,
   "id": "82d76cdf-efc6-45c6-ab09-9d1f17b3d857",
   "metadata": {
    "id": "82d76cdf-efc6-45c6-ab09-9d1f17b3d857"
   },
   "outputs": [
    {
     "name": "stdout",
     "output_type": "stream",
     "text": [
      "Print numbers 1 to 10 using for loop:\n",
      "1\n",
      "2\n",
      "3\n",
      "4\n",
      "5\n",
      "6\n",
      "7\n",
      "8\n",
      "9\n",
      "10\n"
     ]
    }
   ],
   "source": [
    "# Write a Python program to print numbers from 1 to 10 using a for loop.\n",
    "print(\"Print numbers 1 to 10 using for loop:\")\n",
    "for i in range(1,11):\n",
    "    print(i)"
   ]
  },
  {
   "cell_type": "code",
   "execution_count": 6,
   "id": "d09e8994-e984-4c12-ab1e-1bfc6938a389",
   "metadata": {
    "id": "d09e8994-e984-4c12-ab1e-1bfc6938a389"
   },
   "outputs": [
    {
     "name": "stdout",
     "output_type": "stream",
     "text": [
      "Even numbers:\n",
      "2\n",
      "4\n",
      "6\n",
      "8\n",
      "10\n",
      "12\n",
      "14\n",
      "16\n",
      "18\n",
      "20\n"
     ]
    }
   ],
   "source": [
    "# Write a Python program to print all even numbers from 1 to 20 using a while loop.\n",
    "#print even numbers from 1 to 20\n",
    "print(\"Even numbers:\")\n",
    "for num in range(1,21):\n",
    "   if num  % 2 == 0:\n",
    "      print(num)"
   ]
  },
  {
   "cell_type": "code",
   "execution_count": 7,
   "id": "c09ca878-167e-49ca-97f0-247a43c9b472",
   "metadata": {
    "id": "c09ca878-167e-49ca-97f0-247a43c9b472"
   },
   "outputs": [
    {
     "name": "stdout",
     "output_type": "stream",
     "text": [
      "9 x 1 = 9\n",
      "9 x 2 = 18\n",
      "9 x 3 = 27\n",
      "9 x 4 = 36\n",
      "9 x 5 = 45\n",
      "9 x 6 = 54\n",
      "9 x 7 = 63\n",
      "9 x 8 = 72\n",
      "9 x 9 = 81\n",
      "9 x 10 = 90\n"
     ]
    }
   ],
   "source": [
    "# Write a Python program to print the multiplication table of a given number using a for loop. (User input for the number)\n",
    "# Taking input from the user\n",
    "number = int(input(\"Enter a number to print its multiplication table: \"))\n",
    "\n",
    "# Loop to print the multiplication table\n",
    "for i in range(1, 11):  # Loop from 1 to 10\n",
    "    print(f\"{number} x {i} = {number * i}\")"
   ]
  },
  {
   "cell_type": "code",
   "execution_count": 8,
   "id": "b72118ab-e62d-4af9-bcec-e1cc6af31b25",
   "metadata": {
    "id": "b72118ab-e62d-4af9-bcec-e1cc6af31b25"
   },
   "outputs": [
    {
     "name": "stdout",
     "output_type": "stream",
     "text": [
      "The sum of all numbers from 1 to 12 is: 78\n"
     ]
    }
   ],
   "source": [
    "# Write a Python program to calculate the sum of all numbers from 1 to n using a while loop. (User input for n)\n",
    "# Taking input from the user\n",
    "n = int(input(\"Enter a number (n) to calculate the sum of all numbers from 1 to n: \"))\n",
    "\n",
    "# Initialize sum and counter\n",
    "sum_of_numbers = 0\n",
    "i = 1\n",
    "\n",
    "# Use a while loop to calculate the sum\n",
    "while i <= n:\n",
    "    sum_of_numbers += i\n",
    "    i += 1\n",
    "\n",
    "# Print the result\n",
    "print(f\"The sum of all numbers from 1 to {n} is: {sum_of_numbers}\")\n"
   ]
  },
  {
   "cell_type": "code",
   "execution_count": 9,
   "id": "ae93621f-11a2-40b7-97bc-3002f03ac36a",
   "metadata": {
    "id": "ae93621f-11a2-40b7-97bc-3002f03ac36a"
   },
   "outputs": [
    {
     "name": "stdout",
     "output_type": "stream",
     "text": [
      "The factorial of 6 is: 720\n"
     ]
    }
   ],
   "source": [
    "# Write a Python program to calculate the factorial of a number using a while loop. (User input for the number)\n",
    "# Taking input from the user\n",
    "n = int(input(\"Enter a number to calculate its factorial: \"))\n",
    "\n",
    "# Initialize factorial to 1\n",
    "factorial = 1\n",
    "\n",
    "# Ensure the number is non-negative\n",
    "if n < 0:\n",
    "    print(\"Factorial does not exist for negative numbers.\")\n",
    "else:\n",
    "    # While loop to calculate factorial\n",
    "    i = 1\n",
    "    while i <= n:\n",
    "        factorial *= i\n",
    "        i += 1  # Increment the counter\n",
    "\n",
    "    # Output the result\n",
    "    print(f\"The factorial of {n} is: {factorial}\")\n"
   ]
  },
  {
   "cell_type": "code",
   "execution_count": 10,
   "id": "68467ccc-d696-4ef1-84c4-164c9d87f755",
   "metadata": {
    "id": "68467ccc-d696-4ef1-84c4-164c9d87f755"
   },
   "outputs": [
    {
     "name": "stdout",
     "output_type": "stream",
     "text": [
      "Fibonacci sequence up to 7 terms:\n",
      "0 1 1 2 3 5 8 "
     ]
    }
   ],
   "source": [
    "\n",
    "# Write a python program to print the fibonacci sequence up to n terms.(User input for n)\n",
    "# Taking input from the user\n",
    "n = int(input(\"Enter the number of terms for Fibonacci sequence: \"))\n",
    "\n",
    "# Initialize the first two terms\n",
    "a, b = 0, 1\n",
    "\n",
    "# Print the Fibonacci sequence up to n terms\n",
    "print(\"Fibonacci sequence up to\", n, \"terms:\")\n",
    "for _ in range(n):\n",
    "    print(a, end=\" \")\n",
    "    a, b = b, a + b  # Update a and b to the next two terms\n"
   ]
  },
  {
   "cell_type": "code",
   "execution_count": 11,
   "id": "5bebd1f3-2606-4102-aa55-01cb1650f632",
   "metadata": {
    "id": "5bebd1f3-2606-4102-aa55-01cb1650f632"
   },
   "outputs": [
    {
     "name": "stdout",
     "output_type": "stream",
     "text": [
      "Prime numbers between 1 and 100: [2, 3, 5, 7, 11, 13, 17, 19, 23, 29, 31, 37, 41, 43, 47, 53, 59, 61, 67, 71, 73, 79, 83, 89, 97]\n"
     ]
    }
   ],
   "source": [
    "# Write a Python program to find all the prime numbers from 1 to 100.\n",
    "# Function to check if a number is prime\n",
    "def is_prime(num):\n",
    "    if num <= 1:\n",
    "        return False\n",
    "    for i in range(2, int(num**0.5) + 1):  # Check divisibility from 2 to sqrt(num)\n",
    "        if num % i == 0:\n",
    "            return False\n",
    "    return True\n",
    "\n",
    "# Loop through numbers from 1 to 100\n",
    "prime_numbers = []\n",
    "for number in range(1, 101):\n",
    "    if is_prime(number):\n",
    "        prime_numbers.append(number)\n",
    "\n",
    "# Print all the prime numbers between 1 and 100\n",
    "print(\"Prime numbers between 1 and 100:\", prime_numbers)\n",
    "\n"
   ]
  },
  {
   "cell_type": "code",
   "execution_count": 12,
   "id": "0a3f894e-52ba-4c0b-9158-a70f31f4fd49",
   "metadata": {
    "id": "0a3f894e-52ba-4c0b-9158-a70f31f4fd49"
   },
   "outputs": [
    {
     "name": "stdout",
     "output_type": "stream",
     "text": [
      "The sum of the digits is: 5\n"
     ]
    }
   ],
   "source": [
    "#Write a python program that breaks out of a loop when a specific condition is met(e.g, when a number greater than 50 is found).\n",
    "# Taking input from the user\n",
    "number = input(\"Enter a number: \")\n",
    "\n",
    "# Initialize sum to 0\n",
    "sum_of_digits = 0\n",
    "\n",
    "# Loop through each digit in the number\n",
    "for digit in number:\n",
    "    # Add the integer value of the digit to sum_of_digits\n",
    "    sum_of_digits += int(digit)\n",
    "\n",
    "# Print the sum of digits\n",
    "print(f\"The sum of the digits is: {sum_of_digits}\")"
   ]
  },
  {
   "cell_type": "code",
   "execution_count": 13,
   "id": "499b91d0-1f1b-494f-af2b-8cc3a06d90ed",
   "metadata": {
    "id": "499b91d0-1f1b-494f-af2b-8cc3a06d90ed"
   },
   "outputs": [
    {
     "name": "stdout",
     "output_type": "stream",
     "text": [
      "1\n",
      "3\n",
      "5\n",
      "7\n",
      "9\n",
      "11\n",
      "13\n",
      "15\n",
      "17\n",
      "19\n"
     ]
    }
   ],
   "source": [
    "# Write a Python program to skip even numbers while printing numbers from 1 to 20 using a for loop.\n",
    "# Loop through numbers from 1 to 20\n",
    "for number in range(1, 21):\n",
    "    # Skip even numbers\n",
    "    if number % 2 == 0:\n",
    "        continue\n",
    "    # Print the odd numbers\n",
    "    print(number)\n"
   ]
  },
  {
   "cell_type": "code",
   "execution_count": 15,
   "id": "f8ffed70-dfde-4262-a2fd-0d35d69b5fb1",
   "metadata": {
    "id": "f8ffed70-dfde-4262-a2fd-0d35d69b5fb1"
   },
   "outputs": [
    {
     "name": "stdout",
     "output_type": "stream",
     "text": [
      "The character '4' appears 0 times in the string.\n"
     ]
    }
   ],
   "source": [
    "# Write a python program to count how many times a paricular character appears in astring using a for loop.(User input for string and character)\n",
    "# Taking input from the user\n",
    "input_string = input(\"Enter a string: \")\n",
    "char_to_count = input(\"Enter the character to count: \")\n",
    "\n",
    "# Initialize a counter variable\n",
    "count = 0\n",
    "\n",
    "# Loop through each character in the string\n",
    "for char in input_string:\n",
    "    # If the current character matches the character to count, increment the counter\n",
    "    if char == char_to_count:\n",
    "        count += 1\n",
    "\n",
    "# Print the result\n",
    "print(f\"The character '{char_to_count}' appears {count} times in the string.\")"
   ]
  },
  {
   "cell_type": "code",
   "execution_count": 16,
   "id": "01f976ed-4dcd-4842-ae84-d3b5cc42d011",
   "metadata": {
    "id": "01f976ed-4dcd-4842-ae84-d3b5cc42d011"
   },
   "outputs": [
    {
     "name": "stdout",
     "output_type": "stream",
     "text": [
      "The sum of the digits is: 9\n"
     ]
    }
   ],
   "source": [
    "# Write a Python program to calculate the sum of digits of a number. (User input for the number)\n",
    "# Write a python program to calculates the sum of digits of a number.(User input for the number)\n",
    "# Taking input from the user\n",
    "number = input(\"Enter a number: \")\n",
    "\n",
    "# Initialize sum to 0\n",
    "sum_of_digits = 0\n",
    "\n",
    "# Loop through each digit in the number\n",
    "for digit in number:\n",
    "    # Add the integer value of the digit to sum_of_digits\n",
    "    sum_of_digits += int(digit)\n",
    "\n",
    "# Print the sum of digits\n",
    "print(f\"The sum of the digits is: {sum_of_digits}\")\n",
    "\n"
   ]
  },
  {
   "cell_type": "markdown",
   "id": "fe644fae-f262-48dd-b7ff-08eb747d297e",
   "metadata": {
    "id": "fe644fae-f262-48dd-b7ff-08eb747d297e"
   },
   "source": [
    "## Data Structures (Lists, Tuples, Sets, Dictionaries)"
   ]
  },
  {
   "cell_type": "code",
   "execution_count": 18,
   "id": "a0333c26-8e19-4c71-9722-d32cf8625ef6",
   "metadata": {
    "id": "a0333c26-8e19-4c71-9722-d32cf8625ef6"
   },
   "outputs": [
    {
     "name": "stdout",
     "output_type": "stream",
     "text": [
      "The sum of the elements in the list is: 150\n"
     ]
    }
   ],
   "source": [
    "# Write a Python program to create a list of integers and print the sum of the elements.\n",
    "# Creating a list of integers\n",
    "numbers = [10, 20, 30, 40, 50]\n",
    "\n",
    "# Calculating the sum of the elements in the list\n",
    "sum_of_elements = sum(numbers)\n",
    "\n",
    "# Printing the sum\n",
    "print(\"The sum of the elements in the list is:\", sum_of_elements)\n"
   ]
  },
  {
   "cell_type": "code",
   "execution_count": 19,
   "id": "5a23046d-80b0-4f8d-a02f-4e3d833c0443",
   "metadata": {
    "id": "5a23046d-80b0-4f8d-a02f-4e3d833c0443"
   },
   "outputs": [
    {
     "name": "stdout",
     "output_type": "stream",
     "text": [
      "The largest element in the list is: 100\n"
     ]
    }
   ],
   "source": [
    "# Write a Python program to find the largest element in a list.# Write a Python program to find the largest element in a list.\n",
    "# Creating a list of integers\n",
    "numbers = [10, 20, 30, 40, 50, 100, 70]\n",
    "\n",
    "# Finding the largest element using the max() function\n",
    "largest_element = max(numbers)\n",
    "\n",
    "# Printing the largest element\n",
    "print(\"The largest element in the list is:\", largest_element)\n",
    "\n"
   ]
  },
  {
   "cell_type": "code",
   "execution_count": 20,
   "id": "9939c2d2-90fd-4e80-81bc-227c72e60e37",
   "metadata": {
    "id": "9939c2d2-90fd-4e80-81bc-227c72e60e37"
   },
   "outputs": [
    {
     "name": "stdout",
     "output_type": "stream",
     "text": [
      "The reversed list is: [50, 40, 30, 20, 10]\n"
     ]
    }
   ],
   "source": [
    "# Write a Python program to reverse a list.# Write a Python program to reverse a list.\n",
    "# Creating a list\n",
    "numbers = [10, 20, 30, 40, 50]\n",
    "\n",
    "# Reversing the list using slicing\n",
    "reversed_list = numbers[::-1]\n",
    "\n",
    "# Printing the reversed list\n",
    "print(\"The reversed list is:\", reversed_list)\n",
    "\n",
    "\n"
   ]
  },
  {
   "cell_type": "code",
   "execution_count": 21,
   "id": "aa287db8-057b-48d4-a6d8-18cc53eb7178",
   "metadata": {
    "id": "aa287db8-057b-48d4-a6d8-18cc53eb7178"
   },
   "outputs": [
    {
     "name": "stdout",
     "output_type": "stream",
     "text": [
      "The updated list is: [10, 30, 40, 50]\n"
     ]
    }
   ],
   "source": [
    "\n",
    "# Write a Python program to remove all occurrences of a specific element from a list.\n",
    "# Creating a list\n",
    "numbers = [10, 20, 30, 20, 40, 20, 50]\n",
    "\n",
    "# Element to remove\n",
    "element_to_remove = 20\n",
    "\n",
    "# Removing all occurrences of the element\n",
    "numbers = [num for num in numbers if num != element_to_remove]\n",
    "\n",
    "# Printing the updated list\n",
    "print(\"The updated list is:\", numbers)\n"
   ]
  },
  {
   "cell_type": "code",
   "execution_count": 22,
   "id": "da9ba926-0ab5-46e9-b66d-128088c3225b",
   "metadata": {
    "id": "da9ba926-0ab5-46e9-b66d-128088c3225b"
   },
   "outputs": [
    {
     "name": "stdout",
     "output_type": "stream",
     "text": [
      "The index of 30 is: 2\n"
     ]
    }
   ],
   "source": [
    "# Write a Python program to find the index of an element in a list.\n",
    "# Write a Python program to find the index of an element in a list.\n",
    "# Creating a list\n",
    "numbers = [10, 20, 30, 40, 50]\n",
    "\n",
    "# Element to find\n",
    "element_to_find = 30\n",
    "\n",
    "# Finding the index of the element\n",
    "if element_to_find in numbers:\n",
    "    index = numbers.index(element_to_find)\n",
    "    print(f\"The index of {element_to_find} is: {index}\")\n",
    "else:\n",
    "    print(f\"{element_to_find} is not found in the list.\")\n"
   ]
  },
  {
   "cell_type": "code",
   "execution_count": 23,
   "id": "9601b6e4-cb90-4e1f-87b4-38ed37076e0d",
   "metadata": {
    "id": "9601b6e4-cb90-4e1f-87b4-38ed37076e0d"
   },
   "outputs": [
    {
     "name": "stdout",
     "output_type": "stream",
     "text": [
      "30 exists in the list.\n"
     ]
    }
   ],
   "source": [
    "\n",
    "# Write a Python program to find if a specific element exists in a list.\n",
    "# Creating a list\n",
    "numbers = [10, 20, 30, 40, 50]\n",
    "\n",
    "# Element to check\n",
    "element_to_check = 30\n",
    "\n",
    "# Checking if the element exists in the list\n",
    "if element_to_check in numbers:\n",
    "    print(f\"{element_to_check} exists in the list.\")\n",
    "else:\n",
    "    print(f\"{element_to_check} does not exist in the list.\")\n"
   ]
  },
  {
   "cell_type": "code",
   "execution_count": 24,
   "id": "9d8e7311-81de-4da2-826c-c4dcad28ed9f",
   "metadata": {
    "id": "9d8e7311-81de-4da2-826c-c4dcad28ed9f"
   },
   "outputs": [
    {
     "name": "stdout",
     "output_type": "stream",
     "text": [
      "The list without duplicates is: [40, 10, 50, 20, 60, 30]\n"
     ]
    }
   ],
   "source": [
    "# Write a Python program to remove duplicates from a list.\n",
    "# Creating a list with duplicates\n",
    "numbers = [10, 20, 30, 20, 40, 50, 30, 50, 60]\n",
    "\n",
    "# Removing duplicates using set\n",
    "unique_numbers = list(set(numbers))\n",
    "\n",
    "# Printing the list without duplicates\n",
    "print(\"The list without duplicates is:\", unique_numbers)\n"
   ]
  },
  {
   "cell_type": "code",
   "execution_count": 25,
   "id": "09e5121b-97b3-42e4-8025-f28f3470681b",
   "metadata": {
    "id": "09e5121b-97b3-42e4-8025-f28f3470681b"
   },
   "outputs": [
    {
     "name": "stdout",
     "output_type": "stream",
     "text": [
      "The element 20 appears 3 times in the list.\n"
     ]
    }
   ],
   "source": [
    "# Write a Python program to count the occurrences of an element in a list.\n",
    "# Creating a list\n",
    "numbers = [10, 20, 30, 20, 40, 50, 20, 30]\n",
    "\n",
    "# Element to count occurrences of\n",
    "element_to_count = 20\n",
    "\n",
    "# Counting the occurrences of the element\n",
    "occurrences = numbers.count(element_to_count)\n",
    "\n",
    "# Printing the number of occurrences\n",
    "print(f\"The element {element_to_count} appears {occurrences} times in the list.\")\n"
   ]
  },
  {
   "cell_type": "code",
   "execution_count": 26,
   "id": "b774b741-e9a6-45db-8f00-e6d9b734d03a",
   "metadata": {
    "id": "b774b741-e9a6-45db-8f00-e6d9b734d03a"
   },
   "outputs": [
    {
     "name": "stdout",
     "output_type": "stream",
     "text": [
      "The number of even numbers in the list is: 5\n"
     ]
    }
   ],
   "source": [
    "# Write a Python program to get the number of even numbers in a list.\n",
    "# Creating a list\n",
    "numbers = [10, 21, 32, 43, 54, 65, 76, 87, 98]\n",
    "\n",
    "# Counting the even numbers\n",
    "even_count = sum(1 for num in numbers if num % 2 == 0)\n",
    "\n",
    "# Printing the number of even numbers\n",
    "print(f\"The number of even numbers in the list is: {even_count}\")\n"
   ]
  },
  {
   "cell_type": "code",
   "execution_count": 27,
   "id": "5ce4fd2b-ab16-4b40-9ac2-d19c244d8d96",
   "metadata": {
    "id": "5ce4fd2b-ab16-4b40-9ac2-d19c244d8d96"
   },
   "outputs": [
    {
     "name": "stdout",
     "output_type": "stream",
     "text": [
      "The tuple is: (10, 20, 30, 40, 50)\n"
     ]
    }
   ],
   "source": [
    "# Write a Python program to create a tuple and print it.\n",
    "# Creating a tuple\n",
    "my_tuple = (10, 20, 30, 40, 50)\n",
    "\n",
    "# Printing the tuple\n",
    "print(\"The tuple is:\", my_tuple)\n"
   ]
  },
  {
   "cell_type": "code",
   "execution_count": 28,
   "id": "5c04f880-6e96-4ef4-9f4b-df21aae76ff1",
   "metadata": {
    "id": "5c04f880-6e96-4ef4-9f4b-df21aae76ff1"
   },
   "outputs": [
    {
     "name": "stdout",
     "output_type": "stream",
     "text": [
      "Tuple to List: [10, 20, 30, 40, 50]\n",
      "List to Tuple: (100, 200, 300, 400, 500)\n"
     ]
    }
   ],
   "source": [
    "# Write a Python program to convert a tuple to a list and vice versa.\n",
    "# Creating a tuple\n",
    "my_tuple = (10, 20, 30, 40, 50)\n",
    "\n",
    "# Converting tuple to list\n",
    "tuple_to_list = list(my_tuple)\n",
    "print(\"Tuple to List:\", tuple_to_list)\n",
    "\n",
    "# Creating a list\n",
    "my_list = [100, 200, 300, 400, 500]\n",
    "\n",
    "# Converting list to tuple\n",
    "list_to_tuple = tuple(my_list)\n",
    "print(\"List to Tuple:\", list_to_tuple)\n"
   ]
  },
  {
   "cell_type": "code",
   "execution_count": 29,
   "id": "d5192acc-27f3-456e-9c72-3b276a587bf5",
   "metadata": {
    "id": "d5192acc-27f3-456e-9c72-3b276a587bf5"
   },
   "outputs": [
    {
     "name": "stdout",
     "output_type": "stream",
     "text": [
      "The maximum value in the tuple is: 60\n",
      "The minimum value in the tuple is: 10\n"
     ]
    }
   ],
   "source": [
    "# Write a Python program to find the maximum and minimum values in a tuple.\n",
    "# Creating a tuple\n",
    "my_tuple = (10, 20, 30, 40, 50, 60)\n",
    "\n",
    "# Finding the maximum value in the tuple\n",
    "max_value = max(my_tuple)\n",
    "\n",
    "# Finding the minimum value in the tuple\n",
    "min_value = min(my_tuple)\n",
    "\n",
    "# Printing the results\n",
    "print(\"The maximum value in the tuple is:\", max_value)\n",
    "print(\"The minimum value in the tuple is:\", min_value)\n"
   ]
  },
  {
   "cell_type": "code",
   "execution_count": 30,
   "id": "43f0a340-9407-4302-af7e-4e63db578bbf",
   "metadata": {
    "id": "43f0a340-9407-4302-af7e-4e63db578bbf"
   },
   "outputs": [
    {
     "name": "stdout",
     "output_type": "stream",
     "text": [
      "Unpacked values:\n",
      "a = 10\n",
      "b = 20\n",
      "c = 30\n",
      "d = 40\n",
      "e = 50\n"
     ]
    }
   ],
   "source": [
    "# Write a Python program to unpack a tuple into variables.\n",
    "# Write a Python program to unpack a tuple into variables.\n",
    "# Creating a tuple\n",
    "my_tuple = (10, 20, 30, 40, 50)\n",
    "\n",
    "# Unpacking the tuple into variables\n",
    "a, b, c, d, e = my_tuple\n",
    "\n",
    "# Printing the unpacked variables\n",
    "print(\"Unpacked values:\")\n",
    "print(\"a =\", a)\n",
    "print(\"b =\", b)\n",
    "print(\"c =\", c)\n",
    "print(\"d =\", d)\n",
    "print(\"e =\", e)\n"
   ]
  },
  {
   "cell_type": "code",
   "execution_count": 31,
   "id": "46e96e29-2157-4b9f-bb24-0bd973eada9f",
   "metadata": {
    "id": "46e96e29-2157-4b9f-bb24-0bd973eada9f"
   },
   "outputs": [
    {
     "name": "stdout",
     "output_type": "stream",
     "text": [
      "Updated set: {50, 20, 40, 10, 60, 30}\n",
      "30 exists in the set.\n"
     ]
    }
   ],
   "source": [
    "# Write a Python program to add an element to a set and check if an element exists in the set.\n",
    "# Creating a set\n",
    "my_set = {10, 20, 30, 40, 50}\n",
    "\n",
    "# Adding an element to the set\n",
    "my_set.add(60)\n",
    "\n",
    "# Printing the updated set\n",
    "print(\"Updated set:\", my_set)\n",
    "\n",
    "# Element to check\n",
    "element_to_check = 30\n",
    "\n",
    "# Checking if the element exists in the set\n",
    "if element_to_check in my_set:\n",
    "    print(f\"{element_to_check} exists in the set.\")\n",
    "else:\n",
    "    print(f\"{element_to_check} does not exist in the set.\")\n"
   ]
  },
  {
   "cell_type": "code",
   "execution_count": 35,
   "id": "d81a803b-fd80-403e-9ae3-680ef44a3d86",
   "metadata": {
    "id": "d81a803b-fd80-403e-9ae3-680ef44a3d86"
   },
   "outputs": [
    {
     "name": "stdout",
     "output_type": "stream",
     "text": [
      "The dictionary is: {'name': 'pragna', 'age': 20, 'city': 'Hyderabad', 'job': 'Engineer'}\n"
     ]
    }
   ],
   "source": [
    "# Write a Python program to create a dictionary with keys and values and print i.\n",
    "# Creating a dictionary with keys and values\n",
    "my_dict = {\n",
    "    \"name\": \"pragna\",\n",
    "    \"age\": 20,\n",
    "    \"city\": \"Hyderabad\",\n",
    "    \"job\": \"Engineer\"\n",
    "}\n",
    "\n",
    "# Printing the dictionary\n",
    "print(\"The dictionary is:\", my_dict)\n",
    "\n"
   ]
  },
  {
   "cell_type": "code",
   "execution_count": 36,
   "id": "7432174b-fe75-4371-b23a-e2c5d62edb15",
   "metadata": {
    "id": "7432174b-fe75-4371-b23a-e2c5d62edb15"
   },
   "outputs": [
    {
     "name": "stdout",
     "output_type": "stream",
     "text": [
      "The value associated with the key 'age' is: 20\n"
     ]
    }
   ],
   "source": [
    "# Write a Python program to access a dictionary value using a key.\n",
    "\n",
    "# Write a Python program to access a dictionary value using a key.\n",
    "# Creating a dictionary with keys and values\n",
    "my_dict = {\n",
    "    \"name\": \"anushka\",\n",
    "    \"age\": 20,\n",
    "    \"city\": \"Hyderabad\",\n",
    "    \"job\": \"Engineer\"\n",
    "}\n",
    "\n",
    "# Key to access the value\n",
    "key_to_access = \"age\"\n",
    "\n",
    "# Accessing the value using the key\n",
    "value = my_dict.get(key_to_access)\n",
    "\n",
    "# Printing the value\n",
    "print(f\"The value associated with the key '{key_to_access}' is: {value}\")\n"
   ]
  },
  {
   "cell_type": "code",
   "execution_count": 37,
   "id": "000b3260-d91f-41f2-9729-4b0124f2c4d2",
   "metadata": {
    "id": "000b3260-d91f-41f2-9729-4b0124f2c4d2"
   },
   "outputs": [
    {
     "name": "stdout",
     "output_type": "stream",
     "text": [
      "The key 'age' exists in the dictionary.\n"
     ]
    }
   ],
   "source": [
    "# Write a Python program to check if a key exists in a dictionary.\n",
    "# Write a Python program to check if a key exists in a dictionary.\n",
    "# # Creating a dictionary with keys and values\n",
    "my_dict = {\n",
    "    \"name\": \"mahesh\",\n",
    "    \"age\": 42,\n",
    "    \"city\": \"ohio\",\n",
    "    \"job\": \"Engineer\"\n",
    "}\n",
    "\n",
    "# Key to check\n",
    "key_to_check = \"age\"\n",
    "\n",
    "# Checking if the key exists in the dictionary\n",
    "if key_to_check in my_dict:\n",
    "    print(f\"The key '{key_to_check}' exists in the dictionary.\")\n",
    "else:\n",
    "    print(f\"The key '{key_to_check}' does not exist in the dictionary.\")\n"
   ]
  },
  {
   "cell_type": "code",
   "execution_count": 38,
   "id": "c4b1a942-818e-42c1-b742-1fabe80fca6d",
   "metadata": {
    "id": "c4b1a942-818e-42c1-b742-1fabe80fca6d"
   },
   "outputs": [
    {
     "name": "stdout",
     "output_type": "stream",
     "text": [
      "Merged dictionary: {'name': 'lovely', 'age': 21, 'city': 'New York', 'job': 'Engineer'}\n"
     ]
    }
   ],
   "source": [
    "# Write a Python program to merge two dictionaries.\n",
    "# Creating two dictionaries\n",
    "dict1 = {\n",
    "    \"name\": \"lovely\",\n",
    "    \"age\": 21\n",
    "}\n",
    "\n",
    "dict2 = {\n",
    "    \"city\": \"New York\",\n",
    "    \"job\": \"Engineer\"\n",
    "}\n",
    "\n",
    "# Merging the dictionaries\n",
    "merged_dict = {**dict1, **dict2}\n",
    "\n",
    "# Printing the merged dictionary\n",
    "print(\"Merged dictionary:\", merged_dict)\n"
   ]
  },
  {
   "cell_type": "code",
   "execution_count": 39,
   "id": "a78f1070-3ff3-436a-8391-153f019f53cd",
   "metadata": {
    "id": "a78f1070-3ff3-436a-8391-153f019f53cd"
   },
   "outputs": [
    {
     "name": "stdout",
     "output_type": "stream",
     "text": [
      "The key 'age' has been removed.\n",
      "Updated dictionary: {'name': 'anamika', 'city': 'korea', 'job': 'Engineer'}\n"
     ]
    }
   ],
   "source": [
    "# Write a Python program to remove a key from a dictionary.\n",
    "# Creating a dictionary with keys and values\n",
    "my_dict = {\n",
    "    \"name\": \"anamika\",\n",
    "    \"age\": 35,\n",
    "    \"city\": \"korea\",\n",
    "    \"job\": \"Engineer\"\n",
    "}\n",
    "\n",
    "# Key to remove\n",
    "key_to_remove = \"age\"\n",
    "\n",
    "# Removing the key using del\n",
    "if key_to_remove in my_dict:\n",
    "    del my_dict[key_to_remove]\n",
    "    print(f\"The key '{key_to_remove}' has been removed.\")\n",
    "else:\n",
    "    print(f\"The key '{key_to_remove}' does not exist in the dictionary.\")\n",
    "\n",
    "# Printing the updated dictionary\n",
    "print(\"Updated dictionary:\", my_dict)\n"
   ]
  },
  {
   "cell_type": "code",
   "execution_count": 40,
   "id": "fcba0267-8cc4-4e89-9e78-2d820916c177",
   "metadata": {
    "id": "fcba0267-8cc4-4e89-9e78-2d820916c177"
   },
   "outputs": [
    {
     "name": "stdout",
     "output_type": "stream",
     "text": [
      "The number of keys in the dictionary is: 4\n"
     ]
    }
   ],
   "source": [
    "# Write a Python program to get the number of keys in a dictionary.\n",
    "# Creating a dictionary with keys and values\n",
    "my_dict = {\n",
    "    \"name\": \"manaswini\",\n",
    "    \"age\": 20,\n",
    "    \"city\": \"China\",\n",
    "    \"job\": \"Engineer\"\n",
    "}\n",
    "\n",
    "# Getting the number of keys in the dictionary\n",
    "num_keys = len(my_dict)\n",
    "\n",
    "# Printing the number of keys\n",
    "print(\"The number of keys in the dictionary is:\", num_keys)\n",
    "\n",
    "\n"
   ]
  },
  {
   "cell_type": "code",
   "execution_count": 41,
   "id": "d4c5fd77-9656-43e5-8fe2-be7dca23eb6d",
   "metadata": {
    "id": "d4c5fd77-9656-43e5-8fe2-be7dca23eb6d"
   },
   "outputs": [
    {
     "name": "stdout",
     "output_type": "stream",
     "text": [
      "The largest value is: 40 which is associated with key: d\n",
      "The smallest value is: 5 which is associated with key: c\n"
     ]
    }
   ],
   "source": [
    "# Write a Python program to find the largest and smallest values in a dictionary.\n",
    "# Creating a dictionary with keys and values\n",
    "my_dict = {\n",
    "    \"a\": 10,\n",
    "    \"b\": 20,\n",
    "    \"c\": 5,\n",
    "    \"d\": 40,\n",
    "    \"e\": 15\n",
    "}\n",
    "\n",
    "# Finding the largest value\n",
    "largest_value = max(my_dict, key=my_dict.get)\n",
    "\n",
    "# Finding the smallest value\n",
    "smallest_value = min(my_dict, key=my_dict.get)\n",
    "\n",
    "# Printing the largest and smallest values and their corresponding keys\n",
    "print(\"The largest value is:\", my_dict[largest_value], \"which is associated with key:\", largest_value)\n",
    "print(\"The smallest value is:\", my_dict[smallest_value], \"which is associated with key:\", smallest_value)\n",
    "\n",
    "\n",
    "\n"
   ]
  },
  {
   "cell_type": "markdown",
   "id": "7830b8cc-9a90-45a2-8e4a-6f3c2b8b133b",
   "metadata": {
    "id": "7830b8cc-9a90-45a2-8e4a-6f3c2b8b133b"
   },
   "source": [
    "## Functions (User-Defined, Arguments, Keyword Arguments, Return Values)"
   ]
  },
  {
   "cell_type": "code",
   "execution_count": 42,
   "id": "06a33fba-c6b1-4989-90f4-b647d1fe1627",
   "metadata": {
    "id": "06a33fba-c6b1-4989-90f4-b647d1fe1627"
   },
   "outputs": [],
   "source": [
    "# Write a Python function that returns the square of a number.\n",
    "def square(number):\n",
    "    return number ** 2\n"
   ]
  },
  {
   "cell_type": "code",
   "execution_count": 43,
   "id": "91d90a4a-7329-45db-893b-caed8450ba96",
   "metadata": {
    "id": "91d90a4a-7329-45db-893b-caed8450ba96"
   },
   "outputs": [],
   "source": [
    "# Write a Python function that accepts two parameters and returns their sum.# Write a Python function that accepts two parameters and returns their sum.\n",
    "def add(a, b):\n",
    "    return a + b"
   ]
  },
  {
   "cell_type": "code",
   "execution_count": 47,
   "id": "dec2f9a5-90c5-478b-890b-0a506ecf45d3",
   "metadata": {
    "id": "dec2f9a5-90c5-478b-890b-0a506ecf45d3"
   },
   "outputs": [],
   "source": [
    "# Write a Python function to check if a given number is prime.\n",
    "def is_prime(n):\n",
    "    # Check if n is less than 2\n",
    "    if n <= 1:\n",
    "        return False\n",
    "    # Check for factors from 2 to sqrt(n)\n",
    "    for i in range(2, int(n ** 0.5) + 1):\n",
    "        if n % i == 0:\n",
    "            return False\n",
    "    return True\n",
    "\n"
   ]
  },
  {
   "cell_type": "code",
   "execution_count": 48,
   "id": "56337441-68c3-45df-8733-a34cde0533a5",
   "metadata": {
    "id": "56337441-68c3-45df-8733-a34cde0533a5"
   },
   "outputs": [],
   "source": [
    "# Write a Python function to calculate the factorial of a number using recursion.\n",
    "def factorial(n):\n",
    "    # Base case: factorial of 0 or 1 is 1\n",
    "    if n == 0 or n == 1:\n",
    "        return 1\n",
    "    # Recursive case: n * factorial of (n - 1)\n",
    "    else:\n",
    "        return n * factorial(n - 1)\n"
   ]
  },
  {
   "cell_type": "code",
   "execution_count": 49,
   "id": "84a2d010-e7b2-409b-b1f4-99bf806bb77a",
   "metadata": {
    "id": "84a2d010-e7b2-409b-b1f4-99bf806bb77a"
   },
   "outputs": [],
   "source": [
    "# Write a Python function to calculate the power of a number using recursion.\n",
    "def power(base, exponent):\n",
    "    # Base case: anything raised to the power of 0 is 1\n",
    "    if exponent == 0:\n",
    "        return 1\n",
    "    # Recursive case: base * power of (base, exponent - 1)\n",
    "    elif exponent > 0:\n",
    "        return base * power(base, exponent - 1)\n",
    "    # Handling negative exponent: return 1 / (base * power(base, -exponent - 1))\n",
    "    else:\n",
    "        return 1 / power(base, -exponent)\n"
   ]
  },
  {
   "cell_type": "code",
   "execution_count": 50,
   "id": "ec44911e-7820-46cc-96a3-4ca443888837",
   "metadata": {
    "id": "ec44911e-7820-46cc-96a3-4ca443888837"
   },
   "outputs": [],
   "source": [
    "# Write a Python function to accept a list and return its length without using the built-in len() function.\n",
    "def list_length(lst):\n",
    "    count = 0\n",
    "    for item in lst:\n",
    "        count += 1\n",
    "    return count\n"
   ]
  },
  {
   "cell_type": "code",
   "execution_count": 51,
   "id": "fb4c08e1-34f3-487a-a1c6-77cd60fb4836",
   "metadata": {
    "id": "fb4c08e1-34f3-487a-a1c6-77cd60fb4836"
   },
   "outputs": [],
   "source": [
    "# Write a Python function that accepts both positional and keyword arguments and prints the sum of positional arguments.\n",
    "def sum_positional_args(*args, **kwargs):\n",
    "    # Sum the positional arguments\n",
    "    total = sum(args)\n",
    "    print(f\"The sum of positional arguments is: {total}\")\n"
   ]
  },
  {
   "cell_type": "code",
   "execution_count": 52,
   "id": "f4ffc7a8-f579-461c-b507-4085a0477283",
   "metadata": {
    "id": "f4ffc7a8-f579-461c-b507-4085a0477283"
   },
   "outputs": [],
   "source": [
    "# Write a Python function to find the maximum of two numbers using keyword arguments.\n",
    "def max_of_two(**kwargs):\n",
    "    # Extract the two values from keyword arguments\n",
    "    num1 = kwargs.get('num1')\n",
    "    num2 = kwargs.get('num2')\n",
    "    \n",
    "    if num1 is None or num2 is None:\n",
    "        return \"Both 'num1' and 'num2' must be provided\"\n",
    "    \n",
    "    # Return the maximum of the two numbers\n",
    "    return max(num1, num2)\n"
   ]
  },
  {
   "cell_type": "code",
   "execution_count": 53,
   "id": "0b00c4af-89e0-43e8-a991-1b684d2ce33f",
   "metadata": {
    "id": "0b00c4af-89e0-43e8-a991-1b684d2ce33f"
   },
   "outputs": [],
   "source": [
    "# Write a Python function that accepts a list of numbers and returns their product.\n",
    "def product_of_numbers(numbers):\n",
    "    product = 1\n",
    "    for num in numbers:\n",
    "        product *= num\n",
    "    return product\n"
   ]
  },
  {
   "cell_type": "code",
   "execution_count": 54,
   "id": "9cd11703-5b48-44fe-af4e-ea906a2762c9",
   "metadata": {
    "id": "9cd11703-5b48-44fe-af4e-ea906a2762c9"
   },
   "outputs": [],
   "source": [
    "# Write a Python function to check if a number is even or odd using the modulo operator.\n",
    "def check_even_odd(number):\n",
    "    if number % 2 == 0:\n",
    "        return \"Even\"\n",
    "    else:\n",
    "        return \"Odd\"\n"
   ]
  },
  {
   "cell_type": "code",
   "execution_count": 55,
   "id": "afbf262e-daed-40a9-827f-82fa60979610",
   "metadata": {
    "id": "afbf262e-daed-40a9-827f-82fa60979610"
   },
   "outputs": [
    {
     "name": "stdout",
     "output_type": "stream",
     "text": [
      "[1, 4, 9, 16, 25, 36, 49, 64, 81, 100]\n"
     ]
    }
   ],
   "source": [
    "# Write a Python program to create a list of squares of numbers from 1 to 10 using list comprehension.\n",
    "squares = [x**2 for x in range(1, 11)]\n",
    "print(squares)\n"
   ]
  },
  {
   "cell_type": "code",
   "execution_count": null,
   "id": "7fff76d8-9ba8-4006-9be6-6f7350092d1c",
   "metadata": {
    "id": "7fff76d8-9ba8-4006-9be6-6f7350092d1c"
   },
   "outputs": [
    {
     "name": "stdout",
     "output_type": "stream",
     "text": [
      "[1, 3, 5, 7, 9]\n"
     ]
    }
   ],
   "source": [
    "\n",
    "# Write a Python program to filter out all even numbers from a list using list comprehension.\n",
    "numbers = [1, 2, 3, 4, 5, 6, 7, 8, 9, 10]\n",
    "odd_numbers = [x for x in numbers if x % 2 != 0]\n",
    "print(odd_numbers)\n"
   ]
  },
  {
   "cell_type": "code",
   "execution_count": 57,
   "id": "6ae9b8df-38f9-4fd7-bad1-aa7b07cc9271",
   "metadata": {
    "id": "6ae9b8df-38f9-4fd7-bad1-aa7b07cc9271"
   },
   "outputs": [
    {
     "name": "stdout",
     "output_type": "stream",
     "text": [
      "['su zai zai', 'luran']\n"
     ]
    }
   ],
   "source": [
    "# Write a Python program to create a list of strings that are longer than 4 characters from a given list of words using list comprehension.\n",
    "# Write a Python program to create a list of strings that are longer than 4 characters from a given list of words using list comprehension.\n",
    "words = [\"chen\", \"su zai zai\", \"hao\", \"xia\", \"luran\", \"xian\"]\n",
    "long_words = [word for word in words if len(word) > 4]\n",
    "print(long_words)\n"
   ]
  },
  {
   "cell_type": "code",
   "execution_count": null,
   "id": "f492c7d4-6ad3-48ab-9b61-232be02aecee",
   "metadata": {
    "id": "f492c7d4-6ad3-48ab-9b61-232be02aecee"
   },
   "outputs": [
    {
     "name": "stdout",
     "output_type": "stream",
     "text": [
      "['H', 'W', 'I', 'L', 'C']\n"
     ]
    }
   ],
   "source": [
    "# Write a Python program to create a list of all uppercase letters in a string using list comprehension.# Write a Python program to create a list of all uppercase letters in a string using list comprehension.\n",
    "text = \"Hello World,I Love Chocolates!\"\n",
    "uppercase_letters = [char for char in text if char.isupper()]\n",
    "print(uppercase_letters"
   ]
  },
  {
   "cell_type": "code",
   "execution_count": 61,
   "id": "929a7f74-1762-4a2a-be23-bacf67ff4d8b",
   "metadata": {
    "id": "929a7f74-1762-4a2a-be23-bacf67ff4d8b"
   },
   "outputs": [
    {
     "name": "stdout",
     "output_type": "stream",
     "text": [
      "[0, 1, 1, 2]\n"
     ]
    }
   ],
   "source": [
    "# Write a Python program to generate the first n Fibonacci numbers using list comprehension.\n",
    "def fibonacci(n):\n",
    "    fib = [0, 1]  # Starting values for Fibonacci sequence\n",
    "    [fib.append(fib[-2] + fib[-1]) for _ in range(6, n)]  # Generate Fibonacci numbers\n",
    "    return fib[:n]\n",
    "\n",
    "# Example usage\n",
    "n = 8\n",
    "fib_numbers = fibonacci(n)\n",
    "print(fib_numbers)\n",
    "\n"
   ]
  },
  {
   "cell_type": "code",
   "execution_count": 62,
   "id": "47188bbc-cf62-47bb-a14e-0582c8b5cdd9",
   "metadata": {
    "id": "47188bbc-cf62-47bb-a14e-0582c8b5cdd9"
   },
   "outputs": [
    {
     "name": "stdout",
     "output_type": "stream",
     "text": [
      "{1: 1, 2: 4, 3: 9, 4: 16, 5: 25}\n"
     ]
    }
   ],
   "source": [
    "# Write a Python program to create a dictionary where keys are numbers and values are their squares using dictionary comprehension.\n",
    "numbers = [1, 2, 3, 4, 5]\n",
    "squares_dict = {x: x**2 for x in numbers}\n",
    "print(squares_dict)\n"
   ]
  },
  {
   "cell_type": "code",
   "execution_count": 64,
   "id": "3c4637d3-aa85-4b4c-acf3-953c10818bcb",
   "metadata": {
    "id": "3c4637d3-aa85-4b4c-acf3-953c10818bcb"
   },
   "outputs": [
    {
     "name": "stdout",
     "output_type": "stream",
     "text": [
      "{'a': 1, 'b': 2, 'c': 3, 'd': 4}\n"
     ]
    }
   ],
   "source": [
    "# Write a Python program to create a dictionary from two lists (one for keys and one for values) using dictionary comprehension.\n",
    "keys = ['a', 'b', 'c', 'd']\n",
    "values = [1, 2, 3, 4]\n",
    "\n",
    "# Create a dictionary using dictionary comprehension\n",
    "dictionary = {keys[i]: values[i] for i in range(len(keys))}\n",
    "print(dictionary)\n"
   ]
  },
  {
   "cell_type": "code",
   "execution_count": 65,
   "id": "de817d6f-96e7-4346-839e-1ef0df539b6b",
   "metadata": {
    "id": "de817d6f-96e7-4346-839e-1ef0df539b6b"
   },
   "outputs": [
    {
     "name": "stdout",
     "output_type": "stream",
     "text": [
      "{1: 1, 2: 8, 3: 27, 4: 64, 5: 125}\n"
     ]
    }
   ],
   "source": [
    "# Write a Python program to create a dictionary of numbers from 1 to 5 and their cubes using dictionary comprehension.\n",
    "# Create a dictionary where the keys are numbers from 1 to 5 and the values are their cubes\n",
    "cubes_dict = {x: x**3 for x in range(1, 6)}\n",
    "print(cubes_dict)\n",
    "\n"
   ]
  },
  {
   "cell_type": "code",
   "execution_count": 66,
   "id": "33695301-057e-49a6-9f80-a2f4e3af60ed",
   "metadata": {
    "id": "33695301-057e-49a6-9f80-a2f4e3af60ed"
   },
   "outputs": [
    {
     "name": "stdout",
     "output_type": "stream",
     "text": [
      "[1, 4, 9, 16, 25]\n"
     ]
    }
   ],
   "source": [
    "# Write a Python program to square each element of a list using the map() function.\n",
    "# Original list\n",
    "numbers = [1, 2, 3, 4, 5]\n",
    "\n",
    "# Use map() to square each element in the list\n",
    "squared_numbers = list(map(lambda x: x**2, numbers))\n",
    "\n",
    "# Print the result\n",
    "print(squared_numbers)\n"
   ]
  },
  {
   "cell_type": "code",
   "execution_count": 67,
   "id": "6d4d17f3-c40f-4944-8656-c6416b600361",
   "metadata": {
    "id": "6d4d17f3-c40f-4944-8656-c6416b600361"
   },
   "outputs": [
    {
     "name": "stdout",
     "output_type": "stream",
     "text": [
      "[2, 4, 6, 8, 10]\n"
     ]
    }
   ],
   "source": [
    "# Write a Python program to filter all even numbers from a list using the filter() function.\n",
    "# Original list\n",
    "numbers = [1, 2, 3, 4, 5, 6, 7, 8, 9, 10]\n",
    "\n",
    "# Use filter() to filter even numbers\n",
    "even_numbers = list(filter(lambda x: x % 2 == 0, numbers))\n",
    "\n",
    "# Print the result\n",
    "print(even_numbers)\n",
    "\n"
   ]
  },
  {
   "cell_type": "code",
   "execution_count": 68,
   "id": "6634ba1f-9f81-475e-b7c4-422d102afb75",
   "metadata": {
    "id": "6634ba1f-9f81-475e-b7c4-422d102afb75"
   },
   "outputs": [
    {
     "name": "stdout",
     "output_type": "stream",
     "text": [
      "True\n",
      "False\n",
      "True\n"
     ]
    }
   ],
   "source": [
    "# Write a Python program to use a lambda function to check if a number is divisible by both 3 and 5.\n",
    "# Lambda function to check if a number is divisible by both 3 and 5\n",
    "is_divisible_by_3_and_5 = lambda x: x % 3 == 0 and x % 5 == 0\n",
    "\n",
    "# Test the lambda function\n",
    "print(is_divisible_by_3_and_5(15))  # Output: True\n",
    "print(is_divisible_by_3_and_5(10))  # Output: False\n",
    "print(is_divisible_by_3_and_5(30))  # Output: True\n"
   ]
  },
  {
   "cell_type": "code",
   "execution_count": 69,
   "id": "0aac8430-5d77-439d-9a99-9598fadf989c",
   "metadata": {
    "id": "0aac8430-5d77-439d-9a99-9598fadf989c"
   },
   "outputs": [
    {
     "name": "stdout",
     "output_type": "stream",
     "text": [
      "[2, 4, 6, 8, 10]\n"
     ]
    }
   ],
   "source": [
    "# Write a Python program to multiply all numbers in a list by 2 using a lambda function inside map().\n",
    "# Original list\n",
    "numbers = [1, 2, 3, 4, 5]\n",
    "\n",
    "# Use map() with a lambda function to multiply each number by 2\n",
    "doubled_numbers = list(map(lambda x: x * 2, numbers))\n",
    "\n",
    "# Print the result\n",
    "print(doubled_numbers)\n"
   ]
  },
  {
   "cell_type": "code",
   "execution_count": 70,
   "id": "e4cd5ba8-c6ec-4f0d-8787-bf0a4b7a2e22",
   "metadata": {
    "id": "e4cd5ba8-c6ec-4f0d-8787-bf0a4b7a2e22"
   },
   "outputs": [
    {
     "name": "stdout",
     "output_type": "stream",
     "text": [
      "[1, 2, 3, 3, 5, 3, 6]\n"
     ]
    }
   ],
   "source": [
    "# Write a Python program to remove all occurrences of a specific element from a list.\n",
    "# Original list\n",
    "numbers = [1, 2, 3, 4, 3, 5, 3, 6]\n",
    "\n",
    "# Element to be removed\n",
    "element_to_remove = 4\n",
    "\n",
    "# Remove all occurrences of the element using list comprehension\n",
    "filtered_list = [x for x in numbers if x != element_to_remove]\n",
    "\n",
    "# Print the result\n",
    "print(filtered_list)\n",
    "\n"
   ]
  },
  {
   "cell_type": "markdown",
   "id": "caba77c7-93db-4893-8f48-c7365ed5c585",
   "metadata": {
    "id": "caba77c7-93db-4893-8f48-c7365ed5c585"
   },
   "source": [
    "**Note:**\n",
    "- All assignments must follow [PEP 8 – Style Guide for Python Code](https://peps.python.org/pep-0008/) guidelines.\n",
    "- You can add multiple solutions for each question. Create a new code cell next to the question and add it. Shortcut for creating cell : `Alt + Enter`"
   ]
  }
 ],
 "metadata": {
  "colab": {
   "include_colab_link": true,
   "provenance": []
  },
  "kernelspec": {
   "display_name": "Python 3",
   "language": "python",
   "name": "python3"
  },
  "language_info": {
   "codemirror_mode": {
    "name": "ipython",
    "version": 3
   },
   "file_extension": ".py",
   "mimetype": "text/x-python",
   "name": "python",
   "nbconvert_exporter": "python",
   "pygments_lexer": "ipython3",
   "version": "3.13.0"
  }
 },
 "nbformat": 4,
 "nbformat_minor": 5
}
